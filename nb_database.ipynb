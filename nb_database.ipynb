{
 "cells": [
  {
   "cell_type": "code",
   "execution_count": null,
   "metadata": {},
   "outputs": [],
   "source": [
    "import database.core"
   ]
  },
  {
   "cell_type": "code",
   "execution_count": null,
   "metadata": {},
   "outputs": [],
   "source": [
    "# db = database.core.DB()"
   ]
  },
  {
   "cell_type": "code",
   "execution_count": null,
   "metadata": {},
   "outputs": [],
   "source": [
    "# db.database.subscriptions.drop()\n",
    "\n",
    "# db.database.subscriptions.create_index(\"subscriber.phone\", unique=True)\n",
    "# create index on event event_id\n",
    "# db.database.subscriptions.create_index(\"event.event_id\", unique=False)\n",
    "\n",
    "# drop index on event event_id\n",
    "# db.database.subscriptions.drop_index(\"event_id\")"
   ]
  }
 ],
 "metadata": {
  "language_info": {
   "name": "python"
  }
 },
 "nbformat": 4,
 "nbformat_minor": 2
}
