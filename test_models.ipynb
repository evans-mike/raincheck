{
 "cells": [
  {
   "cell_type": "code",
   "execution_count": 44,
   "metadata": {},
   "outputs": [],
   "source": [
    "from models import Time, Place, Event, Subscriber, Subscription\n",
    "from tools.place_utilities import _get_gridpoints_by_lat_lon, _get_lat_lon_for_address_google, _get_lat_lon_for_address_here\n",
    "from tools.forecast_utilities import Forecast\n",
    "from typing import List\n"
   ]
  },
  {
   "cell_type": "code",
   "execution_count": 45,
   "metadata": {},
   "outputs": [
    {
     "name": "stdout",
     "output_type": "stream",
     "text": [
      "{'startDateTime': '2024-03-09T12:00:00-05:00', 'endDateTime': '2024-03-09T17:00:00-05:00'}\n"
     ]
    }
   ],
   "source": [
    "time = Time(startDateTime='2024-03-09T12:00:00-05:00', endDateTime='2024-03-09T17:00:00-05:00')\n",
    "print(time.__dict__)"
   ]
  },
  {
   "cell_type": "code",
   "execution_count": 46,
   "metadata": {},
   "outputs": [
    {
     "name": "stdout",
     "output_type": "stream",
     "text": [
      "{'address': 'Richmond, VA', 'lat': 37.54068, 'lon': -77.43367, 'gridId': 'AKQ', 'gridX': 46, 'gridY': 77}\n"
     ]
    }
   ],
   "source": [
    "place = Place(address='Richmond, VA')\n",
    "print(place.__dict__)"
   ]
  },
  {
   "cell_type": "code",
   "execution_count": 47,
   "metadata": {},
   "outputs": [
    {
     "name": "stdout",
     "output_type": "stream",
     "text": [
      "{'time': Time(startDateTime='2024-03-09T12:00:00-05:00', endDateTime='2024-03-09T17:00:00-05:00'), 'place': Place(address='Richmond, VA', lat=37.54068, lon=-77.43367, gridId='AKQ', gridX=46, gridY=77), 'forecast': <tools.forecast_utilities.Forecast object at 0x1123b6f10>}\n"
     ]
    }
   ],
   "source": [
    "event = Event(time=time, place=place)\n",
    "print(event.__dict__)"
   ]
  },
  {
   "cell_type": "code",
   "execution_count": 48,
   "metadata": {},
   "outputs": [
    {
     "name": "stdout",
     "output_type": "stream",
     "text": [
      "{'place': Place(address='Richmond, VA', lat=37.54068, lon=-77.43367, gridId='AKQ', gridX=46, gridY=77), 'time': Time(startDateTime='2024-03-09T12:00:00-05:00', endDateTime='2024-03-09T17:00:00-05:00'), 'forecast': {'raw': {'number': 22, 'name': '', 'startTime': '2024-03-09T11:00:00-05:00', 'endTime': '2024-03-09T12:00:00-05:00', 'isDaytime': True, 'temperature': 51, 'temperatureUnit': 'F', 'temperatureTrend': None, 'probabilityOfPrecipitation': {'unitCode': 'wmoUnit:percent', 'value': 91}, 'dewpoint': {'unitCode': 'wmoUnit:degC', 'value': 8.88888888888889}, 'relativeHumidity': {'unitCode': 'wmoUnit:percent', 'value': 89}, 'windSpeed': '12 mph', 'windDirection': 'SE', 'icon': 'https://api.weather.gov/icons/land/day/rain,91?size=small', 'shortForecast': 'Rain', 'detailedForecast': ''}, 'chatgpt_summary': ChatCompletionMessage(content=\"Hey there! Get ready for some rain around noon with a temperature of 51°F. The chance of rain is 91%, so don't forget your umbrella! Winds will be coming from the southeast at 12 mph. Stay dry! ☔️ #weatherforecast\", role='assistant', function_call=None, tool_calls=None)}}\n"
     ]
    }
   ],
   "source": [
    "forecast = Forecast(event)\n",
    "print(forecast.__dict__)"
   ]
  },
  {
   "cell_type": "code",
   "execution_count": 49,
   "metadata": {},
   "outputs": [
    {
     "name": "stdout",
     "output_type": "stream",
     "text": [
      "{'phone': '555-555-5555', 'email': None, 'alert_texts': True, 'alert_emails': False}\n"
     ]
    }
   ],
   "source": [
    "subscriber = Subscriber(phone='555-555-5555')\n",
    "print(subscriber.__dict__)"
   ]
  },
  {
   "cell_type": "code",
   "execution_count": 50,
   "metadata": {},
   "outputs": [
    {
     "name": "stdout",
     "output_type": "stream",
     "text": [
      "{'place': Place(address='Richmond, VA', lat=37.54068, lon=-77.43367, gridId='AKQ', gridX=46, gridY=77), 'time': Time(startDateTime='2024-03-09T12:00:00-05:00', endDateTime='2024-03-09T17:00:00-05:00'), 'forecast': {'raw': {'number': 22, 'name': '', 'startTime': '2024-03-09T11:00:00-05:00', 'endTime': '2024-03-09T12:00:00-05:00', 'isDaytime': True, 'temperature': 51, 'temperatureUnit': 'F', 'temperatureTrend': None, 'probabilityOfPrecipitation': {'unitCode': 'wmoUnit:percent', 'value': 91}, 'dewpoint': {'unitCode': 'wmoUnit:degC', 'value': 8.88888888888889}, 'relativeHumidity': {'unitCode': 'wmoUnit:percent', 'value': 89}, 'windSpeed': '12 mph', 'windDirection': 'SE', 'icon': 'https://api.weather.gov/icons/land/day/rain,91?size=small', 'shortForecast': 'Rain', 'detailedForecast': ''}, 'chatgpt_summary': ChatCompletionMessage(content=\"Hey there! Looks like it's gonna be raining with a temperature around 51°F. Don't forget your umbrella! 🌧️☔\", role='assistant', function_call=None, tool_calls=None)}}\n"
     ]
    }
   ],
   "source": [
    "events = [event]\n",
    "subscription = Subscription(subscriber=subscriber, events=events)\n",
    "print(subscription.events[0].forecast.__dict__)"
   ]
  }
 ],
 "metadata": {
  "kernelspec": {
   "display_name": ".venv",
   "language": "python",
   "name": "python3"
  },
  "language_info": {
   "codemirror_mode": {
    "name": "ipython",
    "version": 3
   },
   "file_extension": ".py",
   "mimetype": "text/x-python",
   "name": "python",
   "nbconvert_exporter": "python",
   "pygments_lexer": "ipython3",
   "version": "3.9.6"
  }
 },
 "nbformat": 4,
 "nbformat_minor": 2
}
